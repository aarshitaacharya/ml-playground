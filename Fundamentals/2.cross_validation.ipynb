{
 "cells": [
  {
   "cell_type": "markdown",
   "id": "9dae82eb",
   "metadata": {},
   "source": [
    "# Cross-Validation:\n",
    "\n",
    "Cross-validation is a powerful technique to assess the generalization ability of machine learning models. Instead of relying on a single train-test split, we use multiple splits to reduce variance in our evaluation.\n"
   ]
  },
  {
   "cell_type": "markdown",
   "id": "ca4674a1",
   "metadata": {},
   "source": [
    "## Why Not Just a Single Train/Test Split?\n",
    "\n",
    "- Train/test split is simple, but its results depend heavily on how the data was divided.\n",
    "- You might get lucky (or unlucky) with a particular split.\n",
    "- Cross-validation gives a better estimate of model performance on unseen data.\n"
   ]
  },
  {
   "cell_type": "markdown",
   "id": "207f4b04",
   "metadata": {},
   "source": [
    "## K-Fold Cross-Validation\n",
    "\n",
    "- Split the dataset into **K** equal parts (\"folds\").\n",
    "- Train the model on **K-1** folds and test on the remaining fold.\n",
    "- Repeat the process **K** times, each time changing the validation fold.\n",
    "- Final score = **average** of all K evaluations."
   ]
  },
  {
   "cell_type": "markdown",
   "id": "f25af15e",
   "metadata": {},
   "source": [
    "## We'll Apply This To:\n",
    "- A linear regression model using synthetic data.\n",
    "- Show how different K values affect evaluation."
   ]
  },
  {
   "cell_type": "code",
   "execution_count": 3,
   "id": "9665c88e",
   "metadata": {},
   "outputs": [
    {
     "data": {
      "image/png": "[encoded data removed]",
      "text/plain": [
       "<Figure size 640x480 with 1 Axes>"
      ]
     },
     "metadata": {},
     "output_type": "display_data"
    }
   ],
   "source": [
    "import numpy as np\n",
    "import matplotlib.pyplot as plt\n",
    "from sklearn.linear_model import LinearRegression\n",
    "from sklearn.datasets import make_regression\n",
    "from sklearn.model_selection import train_test_split, cross_val_score, KFold\n",
    "from sklearn.metrics import mean_squared_error\n",
    "\n",
    "X, y = make_regression(n_samples=100, n_features=1, noise=15, random_state=42)\n",
    "\n",
    "plt.scatter(X, y)\n",
    "plt.title(\"Synthetic Regression Data\")\n",
    "plt.xlabel(\"Feature\")\n",
    "plt.ylabel(\"Target\")\n",
    "plt.grid(True)\n",
    "plt.show()"
   ]
  },
  {
   "cell_type": "code",
   "execution_count": 5,
   "id": "b3cc891b",
   "metadata": {},
   "outputs": [
    {
     "name": "stdout",
     "output_type": "stream",
     "text": [
      "MSE (single split) : 234.46\n"
     ]
    }
   ],
   "source": [
    "# Train test split\n",
    "X_train, X_test, y_train, y_test = train_test_split(X, y, test_size=0.2, random_state=42)\n",
    "\n",
    "model = LinearRegression()\n",
    "model.fit(X_train, y_train)\n",
    "y_pred = model.predict(X_test)\n",
    "\n",
    "mse = mean_squared_error(y_test, y_pred)\n",
    "print(f\"MSE (single split) : {mse:.2f}\")"
   ]
  },
  {
   "cell_type": "markdown",
   "id": "36106a30",
   "metadata": {},
   "source": [
    "In scikit-learn, scoring functions follow a convention:\n",
    "\n",
    "Higher score = better performance.\n",
    "However, Mean Squared Error (MSE) is a loss metric, lower is better.\n",
    "\n",
    "To maintain consistency with other scoring functions (like accuracy, where higher is better), cross_val_score negates the MSE internally."
   ]
  },
  {
   "cell_type": "code",
   "execution_count": 6,
   "id": "93b68e9e",
   "metadata": {},
   "outputs": [
    {
     "name": "stdout",
     "output_type": "stream",
     "text": [
      "Cross-Validation MSE scores (5 folds): [230.19440484 191.26637894 261.95011089 131.29804227 100.0370986 ]\n",
      "Mean MSE: 182.95\n"
     ]
    }
   ],
   "source": [
    "# K-fold cross validation\n",
    "\n",
    "scores = cross_val_score(model, X, y, cv=5, scoring=\"neg_mean_squared_error\")\n",
    "mse_scores = -scores\n",
    "\n",
    "print(f\"Cross-Validation MSE scores (5 folds): {mse_scores}\")\n",
    "print(f\"Mean MSE: {mse_scores.mean():.2f}\")"
   ]
  },
  {
   "cell_type": "code",
   "execution_count": 7,
   "id": "37bf6a5a",
   "metadata": {},
   "outputs": [
    {
     "name": "stdout",
     "output_type": "stream",
     "text": [
      "Fold 1: Train size = 80, Test size = 20\n",
      "Fold 2: Train size = 80, Test size = 20\n",
      "Fold 3: Train size = 80, Test size = 20\n",
      "Fold 4: Train size = 80, Test size = 20\n",
      "Fold 5: Train size = 80, Test size = 20\n"
     ]
    }
   ],
   "source": [
    "kf = KFold(n_splits=5, shuffle=True, random_state=42)\n",
    "\n",
    "for fold, (train_idx, test_idx) in enumerate(kf.split(X), 1):\n",
    "    print(f\"Fold {fold}: Train size = {len(train_idx)}, Test size = {len(test_idx)}\")"
   ]
  },
  {
   "cell_type": "markdown",
   "id": "7dee58af",
   "metadata": {},
   "source": [
    "## Applying LOOCV\n",
    "\n",
    "We'll use `LeaveOneOut()` with `cross_val_score` to evaluate the model using **Negative Mean Squared Error**.\n"
   ]
  },
  {
   "cell_type": "code",
   "execution_count": 8,
   "id": "50ac5d6d",
   "metadata": {},
   "outputs": [],
   "source": [
    "from sklearn.model_selection import LeaveOneOut\n",
    "loo = LeaveOneOut()\n",
    "\n",
    "scores = cross_val_score(model, X, y, cv=loo, scoring=\"neg_mean_squared_error\")\n",
    "mse_scores = -scores\n"
   ]
  },
  {
   "cell_type": "code",
   "execution_count": 9,
   "id": "e86a5fdc",
   "metadata": {},
   "outputs": [
    {
     "name": "stdout",
     "output_type": "stream",
     "text": [
      "Number of LOOCV iterations: 100\n",
      "Mean MSE across all iterations: 182.49\n"
     ]
    }
   ],
   "source": [
    "print(f\"Number of LOOCV iterations: {len(mse_scores)}\")\n",
    "print(f\"Mean MSE across all iterations: {np.mean(mse_scores):.2f}\")"
   ]
  },
  {
   "cell_type": "markdown",
   "id": "6975f5e3",
   "metadata": {},
   "source": [
    "LOOCV gives an almost unbiased estimate of performance, but at a high computational cost.\n",
    "- On small datasets like this one, it's practical and gives high-quality feedback on model generalization.\n",
    "- As dataset size increases, you might prefer **K-Fold CV** for efficiency."
   ]
  },
  {
   "cell_type": "markdown",
   "id": "971a58f6",
   "metadata": {},
   "source": [
    "- Cross-validation helps get a more reliable estimate of model performance.\n",
    "- We used 5-Fold CV to evaluate linear regression.\n",
    "- Compared to a single train-test split, CV reduces evaluation variance.\n",
    "- This is especially useful for small datasets or unstable models.\n"
   ]
  }
 ],
 "metadata": {
  "kernelspec": {
   "display_name": "3.10.16",
   "language": "python",
   "name": "python3"
  },
  "language_info": {
   "codemirror_mode": {
    "name": "ipython",
    "version": 3
   },
   "file_extension": ".py",
   "mimetype": "text/x-python",
   "name": "python",
   "nbconvert_exporter": "python",
   "pygments_lexer": "ipython3",
   "version": "3.10.16"
  }
 },
 "nbformat": 4,
 "nbformat_minor": 5
}
