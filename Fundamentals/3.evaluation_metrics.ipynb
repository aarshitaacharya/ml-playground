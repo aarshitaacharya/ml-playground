{
 "cells": [
  {
   "cell_type": "markdown",
   "id": "c1a91046",
   "metadata": {},
   "source": [
    "# Evaluation Metrics: Precision, Recall, Specificity, F1, Accuracy\n",
    "\n",
    "In this notebook, we explore core classification evaluation metrics with simple examples and visual aids. These metrics help us assess how well a classification model performs beyond simple accuracy.\n"
   ]
  },
  {
   "cell_type": "markdown",
   "id": "1c2bc8ac",
   "metadata": {},
   "source": [
    "## Metric Formulas\n",
    "\n",
    "- **Accuracy** = (TP + TN) / (TP + TN + FP + FN)  \n",
    "- **Precision** = TP / (TP + FP)  \n",
    "- **Recall (Sensitivity)** = TP / (TP + FN)  \n",
    "- **Specificity** = TN / (TN + FP)  \n",
    "- **F1 Score** = 2 * (Precision * Recall) / (Precision + Recall)\n",
    "\n",
    "Where:  \n",
    "- TP: True Positive  \n",
    "- TN: True Negative  \n",
    "- FP: False Positive  \n",
    "- FN: False Negative\n"
   ]
  },
  {
   "cell_type": "code",
   "execution_count": 6,
   "id": "a2b1f8b6",
   "metadata": {},
   "outputs": [
    {
     "data": {
      "image/png": "[encoded data removed]",
      "text/plain": [
       "<Figure size 640x480 with 2 Axes>"
      ]
     },
     "metadata": {},
     "output_type": "display_data"
    }
   ],
   "source": [
    "import numpy as np\n",
    "from sklearn.metrics import confusion_matrix, classification_report\n",
    "import matplotlib.pyplot as plt\n",
    "import seaborn as sns\n",
    "\n",
    "# simulating data:\n",
    "y_true = [1, 1, 1, 0, 0, 1, 0, 0, 1, 0]\n",
    "y_pred = [1, 0, 0, 0, 0, 1, 0, 1, 1, 0]\n",
    "\n",
    "cm = confusion_matrix(y_true, y_pred)\n",
    "\n",
    "sns.heatmap(cm, annot=True, fmt='d', cmap='Blues', xticklabels=['Pred 0', 'Pred 1'], yticklabels=['Actual 0', 'Actual 1'])\n",
    "plt.title(\"Confusion Matrix\")\n",
    "plt.ylabel(\"Actual\")\n",
    "plt.xlabel(\"Predicted\")\n",
    "plt.show()\n",
    "\n"
   ]
  },
  {
   "cell_type": "code",
   "execution_count": 7,
   "id": "8b448af5",
   "metadata": {},
   "outputs": [
    {
     "name": "stdout",
     "output_type": "stream",
     "text": [
      "Precision: 0.75\n",
      "Recall: 0.60\n",
      "Specificity: 0.80\n",
      "F1 Score: 0.67\n",
      "Accuracy: 0.70\n"
     ]
    }
   ],
   "source": [
    "from sklearn.metrics import precision_score, recall_score, f1_score, accuracy_score\n",
    "\n",
    "precision = precision_score(y_true, y_pred)\n",
    "recall = recall_score(y_true, y_pred)\n",
    "f1 = f1_score(y_true, y_pred)\n",
    "accuracy = accuracy_score(y_true, y_pred)\n",
    "\n",
    "# manually we will calculate specificity\n",
    "tn, fp, fn, tp = cm.ravel()\n",
    "specificity = tn / (tn + fp)\n",
    "\n",
    "print(f\"Precision: {precision:.2f}\")\n",
    "print(f\"Recall: {recall:.2f}\")\n",
    "print(f\"Specificity: {specificity:.2f}\")\n",
    "print(f\"F1 Score: {f1:.2f}\")\n",
    "print(f\"Accuracy: {accuracy:.2f}\")\n"
   ]
  },
  {
   "cell_type": "markdown",
   "id": "95815d56",
   "metadata": {},
   "source": [
    "## Takeaways\n",
    "\n",
    "- **Precision** is useful when false positives are costly (e.g. spam detection).\n",
    "- **Recall** matters more when false negatives are costly (e.g. disease detection).\n",
    "- **Specificity** complements recall by measuring true negative rate.\n",
    "- **F1 Score** balances precision and recall.\n",
    "- **Accuracy** alone can be misleading in imbalanced datasets.\n"
   ]
  }
 ],
 "metadata": {
  "kernelspec": {
   "display_name": "3.10.16",
   "language": "python",
   "name": "python3"
  },
  "language_info": {
   "codemirror_mode": {
    "name": "ipython",
    "version": 3
   },
   "file_extension": ".py",
   "mimetype": "text/x-python",
   "name": "python",
   "nbconvert_exporter": "python",
   "pygments_lexer": "ipython3",
   "version": "3.10.16"
  }
 },
 "nbformat": 4,
 "nbformat_minor": 5
}
