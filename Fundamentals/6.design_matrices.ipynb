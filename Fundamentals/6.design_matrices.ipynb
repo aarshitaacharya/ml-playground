{
 "cells": [
  {
   "cell_type": "markdown",
   "id": "e8bdff5e",
   "metadata": {},
   "source": [
    "## Comparing Models\n",
    "We want to compare **four approaches** to modeling our data from *control* and *mutant* mice.\n",
    "The idea is to show that a **full regression model with group and slope terms** outperforms simple means or partial models.\n"
   ]
  },
  {
   "cell_type": "code",
   "execution_count": 1,
   "id": "f7a999ac",
   "metadata": {},
   "outputs": [],
   "source": [
    "import numpy as np\n",
    "import pandas as pd\n",
    "import matplotlib.pyplot as plt\n",
    "from scipy import stats\n",
    "import statsmodels.api as sm\n",
    "import statsmodels.formula.api as smf"
   ]
  },
  {
   "cell_type": "markdown",
   "id": "428a2a6f",
   "metadata": {},
   "source": [
    "### **1. Data Setup**\n",
    "\n",
    "We have:\n",
    "\n",
    "* A **binary group variable**:\n",
    "\n",
    "  $$\n",
    "  \\text{group} =\n",
    "  \\begin{cases}\n",
    "  0 & \\text{Control mice} \\\\\n",
    "  1 & \\text{Mutant mice}\n",
    "  \\end{cases}\n",
    "  $$\n",
    "* A **continuous predictor** $x$ (e.g., age, weight, dosage).\n",
    "* A **response variable** $y$ (e.g., measured outcome)."
   ]
  },
  {
   "cell_type": "code",
   "execution_count": 2,
   "id": "ef251a4a",
   "metadata": {},
   "outputs": [
    {
     "data": {
      "text/html": [
       "<div>\n",
       "<style scoped>\n",
       "    .dataframe tbody tr th:only-of-type {\n",
       "        vertical-align: middle;\n",
       "    }\n",
       "\n",
       "    .dataframe tbody tr th {\n",
       "        vertical-align: top;\n",
       "    }\n",
       "\n",
       "    .dataframe thead th {\n",
       "        text-align: right;\n",
       "    }\n",
       "</style>\n",
       "<table border=\"1\" class=\"dataframe\">\n",
       "  <thead>\n",
       "    <tr style=\"text-align: right;\">\n",
       "      <th></th>\n",
       "      <th>Group</th>\n",
       "      <th>Weight</th>\n",
       "    </tr>\n",
       "  </thead>\n",
       "  <tbody>\n",
       "    <tr>\n",
       "      <th>0</th>\n",
       "      <td>Control</td>\n",
       "      <td>21.0</td>\n",
       "    </tr>\n",
       "    <tr>\n",
       "      <th>1</th>\n",
       "      <td>Control</td>\n",
       "      <td>19.5</td>\n",
       "    </tr>\n",
       "    <tr>\n",
       "      <th>2</th>\n",
       "      <td>Control</td>\n",
       "      <td>20.2</td>\n",
       "    </tr>\n",
       "    <tr>\n",
       "      <th>3</th>\n",
       "      <td>Control</td>\n",
       "      <td>20.7</td>\n",
       "    </tr>\n",
       "    <tr>\n",
       "      <th>4</th>\n",
       "      <td>Mutant</td>\n",
       "      <td>24.8</td>\n",
       "    </tr>\n",
       "    <tr>\n",
       "      <th>5</th>\n",
       "      <td>Mutant</td>\n",
       "      <td>25.1</td>\n",
       "    </tr>\n",
       "    <tr>\n",
       "      <th>6</th>\n",
       "      <td>Mutant</td>\n",
       "      <td>23.9</td>\n",
       "    </tr>\n",
       "    <tr>\n",
       "      <th>7</th>\n",
       "      <td>Mutant</td>\n",
       "      <td>24.4</td>\n",
       "    </tr>\n",
       "  </tbody>\n",
       "</table>\n",
       "</div>"
      ],
      "text/plain": [
       "     Group  Weight\n",
       "0  Control    21.0\n",
       "1  Control    19.5\n",
       "2  Control    20.2\n",
       "3  Control    20.7\n",
       "4   Mutant    24.8\n",
       "5   Mutant    25.1\n",
       "6   Mutant    23.9\n",
       "7   Mutant    24.4"
      ]
     },
     "execution_count": 2,
     "metadata": {},
     "output_type": "execute_result"
    }
   ],
   "source": [
    "groups = np.array(['Control'] * 4 + ['Mutant'] * 4)\n",
    "weights = np.array([21.0, 19.5, 20.2, 20.7, 24.8, 25.1, 23.9, 24.4])\n",
    "\n",
    "df = pd.DataFrame({'Group': groups, 'Weight': weights})\n",
    "df"
   ]
  },
  {
   "cell_type": "code",
   "execution_count": 5,
   "id": "690b571e",
   "metadata": {},
   "outputs": [
    {
     "data": {
      "text/plain": [
       "<Figure size 600x400 with 0 Axes>"
      ]
     },
     "metadata": {},
     "output_type": "display_data"
    },
    {
     "data": {
      "image/png": "[encoded data removed]",
      "text/plain": [
       "<Figure size 640x480 with 1 Axes>"
      ]
     },
     "metadata": {},
     "output_type": "display_data"
    }
   ],
   "source": [
    "plt.figure(figsize=(6, 4))\n",
    "ax = df.boxplot(column='Weight', by='Group', grid=False)\n",
    "for i, g in enumerate(df['Group'].unique()):\n",
    "    y = df.loc[df['Group']==g, 'Weight']\n",
    "    x = np.random.normal(i+1, 0.05,size=len(y))\n",
    "    plt.plot(x, y, 'o')\n",
    "plt.suptitle('')\n",
    "plt.title('Weight by Group')\n",
    "plt.xlabel('Group')\n",
    "plt.ylabel('Weight')\n",
    "plt.show()"
   ]
  },
  {
   "cell_type": "markdown",
   "id": "29f81cf3",
   "metadata": {},
   "source": [
    "## **2. Models to Compare**\n",
    "\n",
    "### **Model A: Mean Only**\n",
    "\n",
    "This is the simplest possible model:\n",
    "\n",
    "$$\n",
    "y = \\mu + \\varepsilon\n",
    "$$\n",
    "\n",
    "where $\\mu$ is just the overall mean of all data points.\n",
    "No group information, no slope — **same prediction for everyone**."
   ]
  },
  {
   "cell_type": "markdown",
   "id": "b22f2e6b",
   "metadata": {},
   "source": [
    "\n",
    "### **Model B: Intercept + Slope (No Group Info)**\n",
    "\n",
    "Here we fit a straight line to **all mice pooled together**:\n",
    "\n",
    "$$\n",
    "y = \\beta_0 + \\beta_1 x + \\varepsilon\n",
    "$$\n",
    "\n",
    "Still ignores the group difference — assumes **both control and mutant follow the same line**.\n"
   ]
  },
  {
   "cell_type": "markdown",
   "id": "21dde23e",
   "metadata": {},
   "source": [
    "### **Model C: Mean Control + t-test for Difference**\n",
    "\n",
    "This is the classic **two-sample t-test** setup:\n",
    "\n",
    "1. Compute the mean for **control** group: $\\mu_c$\n",
    "2. Compute the mean for **mutant** group: $\\mu_m$\n",
    "3. Difference:\n",
    "\n",
    "$$\n",
    "\\Delta = \\mu_m - \\mu_c\n",
    "$$\n",
    "\n",
    "4. Test:\n",
    "\n",
    "$$\n",
    "t = \\frac{\\Delta}{SE(\\Delta)}\n",
    "$$\n",
    "\n",
    "This tests whether the **two group means are significantly different** (no slope term).\n"
   ]
  },
  {
   "cell_type": "markdown",
   "id": "5180d3e3",
   "metadata": {},
   "source": [
    "### **Model D: Full Regression Model (Group + Slope)**\n",
    "\n",
    "This is the **design matrix** approach:\n",
    "\n",
    "$$\n",
    "y = \\beta_0 + \\beta_g \\cdot \\text{group} + \\beta_1 x + \\varepsilon\n",
    "$$\n",
    "\n",
    "Where:\n",
    "\n",
    "* $\\beta_0$: intercept for **control group** (when $x = 0$)\n",
    "* $\\beta_g$: **offset** for mutant group (difference in intercept between mutant and control)\n",
    "* $\\beta_1$: slope shared by both groups\n",
    "  (or you could extend to have **different slopes per group** if interaction is included)\n",
    "\n",
    "**Interpretation:**\n",
    "\n",
    "* $\\beta_g$ tells you how much higher/lower mutants are compared to controls **after adjusting for x**.\n",
    "* The model uses **all data at once**, making it more powerful than a separate mean or t-test.\n"
   ]
  },
  {
   "cell_type": "markdown",
   "id": "c2f5f620",
   "metadata": {},
   "source": [
    "\n",
    "\n",
    "## **3. Why Model D is Better**\n",
    "\n",
    "* **Adjusts for confounding**: If $x$ affects $y$, the t-test on raw means could be misleading.\n",
    "* **Uses all variance**: Slope explains extra variability → smaller residual error → higher statistical power.\n",
    "* **Generalizes**: Can extend to multiple groups, multiple predictors, interactions, etc.\n"
   ]
  }
 ],
 "metadata": {
  "kernelspec": {
   "display_name": "3.10.16",
   "language": "python",
   "name": "python3"
  },
  "language_info": {
   "codemirror_mode": {
    "name": "ipython",
    "version": 3
   },
   "file_extension": ".py",
   "mimetype": "text/x-python",
   "name": "python",
   "nbconvert_exporter": "python",
   "pygments_lexer": "ipython3",
   "version": "3.10.16"
  }
 },
 "nbformat": 4,
 "nbformat_minor": 5
}
