{
 "cells": [
  {
   "cell_type": "markdown",
   "id": "e8bdff5e",
   "metadata": {},
   "source": [
    "## Comparing Models\n",
    "We want to compare **four approaches** to modeling our data from *control* and *mutant* mice.\n",
    "The idea is to show that a **full regression model with group and slope terms** outperforms simple means or partial models.\n"
   ]
  },
  {
   "cell_type": "code",
   "execution_count": 13,
   "id": "f7a999ac",
   "metadata": {},
   "outputs": [],
   "source": [
    "import numpy as np\n",
    "import pandas as pd\n",
    "import matplotlib.pyplot as plt\n",
    "from scipy import stats\n",
    "import statsmodels.api as sm\n",
    "import statsmodels.formula.api as smf"
   ]
  },
  {
   "cell_type": "markdown",
   "id": "428a2a6f",
   "metadata": {},
   "source": [
    "### **1. Data Setup**\n",
    "\n",
    "We have:\n",
    "\n",
    "* A **binary group variable**:\n",
    "\n",
    "  $$\n",
    "  \\text{group} =\n",
    "  \\begin{cases}\n",
    "  0 & \\text{Control mice} \\\\\n",
    "  1 & \\text{Mutant mice}\n",
    "  \\end{cases}\n",
    "  $$\n",
    "* A **continuous predictor** $x$ (e.g., age, weight, dosage).\n",
    "* A **response variable** $y$ (e.g., measured outcome)."
   ]
  },
  {
   "cell_type": "code",
   "execution_count": 14,
   "id": "ef251a4a",
   "metadata": {},
   "outputs": [],
   "source": [
    "groups = np.array(['Control'] * 4 + ['Mutant'] * 4)\n",
    "weights = np.array([21.0, 19.5, 20.2, 20.7, 24.8, 25.1, 23.9, 24.4])\n",
    "\n",
    "df = pd.DataFrame({'Group': groups, 'Weight': weights})\n",
    "df['Mutant'] = (df['Group'] == 'Mutant').astype(int)\n",
    "df['x'] = np.arange(len(df))"
   ]
  },
  {
   "cell_type": "code",
   "execution_count": 15,
   "id": "690b571e",
   "metadata": {},
   "outputs": [
    {
     "data": {
      "text/plain": [
       "<Figure size 600x400 with 0 Axes>"
      ]
     },
     "metadata": {},
     "output_type": "display_data"
    },
    {
     "data": {
      "image/png": "[encoded data removed]",
      "text/plain": [
       "<Figure size 640x480 with 1 Axes>"
      ]
     },
     "metadata": {},
     "output_type": "display_data"
    }
   ],
   "source": [
    "plt.figure(figsize=(6, 4))\n",
    "ax = df.boxplot(column='Weight', by='Group', grid=False)\n",
    "for i, g in enumerate(df['Group'].unique()):\n",
    "    y = df.loc[df['Group']==g, 'Weight']\n",
    "    x = np.random.normal(i+1, 0.05,size=len(y))\n",
    "    plt.plot(x, y, 'o')\n",
    "plt.suptitle('')\n",
    "plt.title('Weight by Group')\n",
    "plt.xlabel('Group')\n",
    "plt.ylabel('Weight')\n",
    "plt.show()"
   ]
  },
  {
   "cell_type": "markdown",
   "id": "29f81cf3",
   "metadata": {},
   "source": [
    "## **2. Models to Compare**\n",
    "\n",
    "### **Model A: Mean Only**\n",
    "\n",
    "This is the simplest possible model:\n",
    "\n",
    "$$\n",
    "y = \\mu + \\varepsilon\n",
    "$$\n",
    "\n",
    "where $\\mu$ is just the overall mean of all data points.\n",
    "No group information, no slope — **same prediction for everyone**."
   ]
  },
  {
   "cell_type": "code",
   "execution_count": 16,
   "id": "2b549d0b",
   "metadata": {},
   "outputs": [
    {
     "name": "stdout",
     "output_type": "stream",
     "text": [
      "                            OLS Regression Results                            \n",
      "==============================================================================\n",
      "Dep. Variable:                 Weight   R-squared:                       0.000\n",
      "Model:                            OLS   Adj. R-squared:                  0.000\n",
      "Method:                 Least Squares   F-statistic:                       nan\n",
      "Date:                Tue, 12 Aug 2025   Prob (F-statistic):                nan\n",
      "Time:                        16:09:34   Log-Likelihood:                -17.518\n",
      "No. Observations:                   8   AIC:                             37.04\n",
      "Df Residuals:                       7   BIC:                             37.12\n",
      "Df Model:                           0                                         \n",
      "Covariance Type:            nonrobust                                         \n",
      "==============================================================================\n",
      "                 coef    std err          t      P>|t|      [0.025      0.975]\n",
      "------------------------------------------------------------------------------\n",
      "const         22.4500      0.817     27.478      0.000      20.518      24.382\n",
      "==============================================================================\n",
      "Omnibus:                        4.727   Durbin-Watson:                   0.577\n",
      "Prob(Omnibus):                  0.094   Jarque-Bera (JB):                1.053\n",
      "Skew:                          -0.042   Prob(JB):                        0.591\n",
      "Kurtosis:                       1.224   Cond. No.                         1.00\n",
      "==============================================================================\n",
      "\n",
      "Notes:\n",
      "[1] Standard Errors assume that the covariance matrix of the errors is correctly specified.\n"
     ]
    },
    {
     "name": "stderr",
     "output_type": "stream",
     "text": [
      "/Users/aarshitaacharya/.pyenv/versions/3.10.16/lib/python3.10/site-packages/scipy/stats/_axis_nan_policy.py:430: UserWarning: `kurtosistest` p-value may be inaccurate with fewer than 20 observations; only n=8 observations were given.\n",
      "  return hypotest_fun_in(*args, **kwds)\n"
     ]
    }
   ],
   "source": [
    "X_mean = np.ones(len(df))\n",
    "model_mean = sm.OLS(df['Weight'], X_mean).fit()\n",
    "print(model_mean.summary())"
   ]
  },
  {
   "cell_type": "markdown",
   "id": "b22f2e6b",
   "metadata": {},
   "source": [
    "\n",
    "### **Model B: Intercept + Slope (No Group Info)**\n",
    "\n",
    "Here we fit a straight line to **all mice pooled together**:\n",
    "\n",
    "$$\n",
    "y = \\beta_0 + \\beta_1 x + \\varepsilon\n",
    "$$\n",
    "\n",
    "Still ignores the group difference — assumes **both control and mutant follow the same line**.\n"
   ]
  },
  {
   "cell_type": "code",
   "execution_count": 17,
   "id": "9a4315cd",
   "metadata": {},
   "outputs": [
    {
     "name": "stdout",
     "output_type": "stream",
     "text": [
      "                            OLS Regression Results                            \n",
      "==============================================================================\n",
      "Dep. Variable:                 Weight   R-squared:                       0.665\n",
      "Model:                            OLS   Adj. R-squared:                  0.609\n",
      "Method:                 Least Squares   F-statistic:                     11.89\n",
      "Date:                Tue, 12 Aug 2025   Prob (F-statistic):             0.0137\n",
      "Time:                        16:09:34   Log-Likelihood:                -13.149\n",
      "No. Observations:                   8   AIC:                             30.30\n",
      "Df Residuals:                       6   BIC:                             30.46\n",
      "Df Model:                           1                                         \n",
      "Covariance Type:            nonrobust                                         \n",
      "==============================================================================\n",
      "                 coef    std err          t      P>|t|      [0.025      0.975]\n",
      "------------------------------------------------------------------------------\n",
      "const         19.7583      0.933     21.173      0.000      17.475      22.042\n",
      "Index          0.7690      0.223      3.448      0.014       0.223       1.315\n",
      "==============================================================================\n",
      "Omnibus:                        2.916   Durbin-Watson:                   1.634\n",
      "Prob(Omnibus):                  0.233   Jarque-Bera (JB):                1.086\n",
      "Skew:                           0.471   Prob(JB):                        0.581\n",
      "Kurtosis:                       1.460   Cond. No.                         7.95\n",
      "==============================================================================\n",
      "\n",
      "Notes:\n",
      "[1] Standard Errors assume that the covariance matrix of the errors is correctly specified.\n"
     ]
    },
    {
     "name": "stderr",
     "output_type": "stream",
     "text": [
      "/Users/aarshitaacharya/.pyenv/versions/3.10.16/lib/python3.10/site-packages/scipy/stats/_axis_nan_policy.py:430: UserWarning: `kurtosistest` p-value may be inaccurate with fewer than 20 observations; only n=8 observations were given.\n",
      "  return hypotest_fun_in(*args, **kwds)\n"
     ]
    }
   ],
   "source": [
    "df['Index'] = np.arange(len(df))\n",
    "X_slope = sm.add_constant(df['Index'])\n",
    "model_slope = sm.OLS(df['Weight'], X_slope).fit()\n",
    "print(model_slope.summary())\n"
   ]
  },
  {
   "cell_type": "markdown",
   "id": "21dde23e",
   "metadata": {},
   "source": [
    "### **Model C: Mean Control + t-test for Difference**\n",
    "\n",
    "This is the classic **two-sample t-test** setup:\n",
    "\n",
    "1. Compute the mean for **control** group: $\\mu_c$\n",
    "2. Compute the mean for **mutant** group: $\\mu_m$\n",
    "3. Difference:\n",
    "\n",
    "$$\n",
    "\\Delta = \\mu_m - \\mu_c\n",
    "$$\n",
    "\n",
    "4. Test:\n",
    "\n",
    "$$\n",
    "t = \\frac{\\Delta}{SE(\\Delta)}\n",
    "$$\n",
    "\n",
    "This tests whether the **two group means are significantly different** (no slope term).\n"
   ]
  },
  {
   "cell_type": "code",
   "execution_count": 18,
   "id": "73d7f8ba",
   "metadata": {},
   "outputs": [
    {
     "name": "stdout",
     "output_type": "stream",
     "text": [
      "                            OLS Regression Results                            \n",
      "==============================================================================\n",
      "Dep. Variable:                 Weight   R-squared:                       0.944\n",
      "Model:                            OLS   Adj. R-squared:                  0.934\n",
      "Method:                 Least Squares   F-statistic:                     100.8\n",
      "Date:                Tue, 12 Aug 2025   Prob (F-statistic):           5.66e-05\n",
      "Time:                        16:09:34   Log-Likelihood:                -6.0015\n",
      "No. Observations:                   8   AIC:                             16.00\n",
      "Df Residuals:                       6   BIC:                             16.16\n",
      "Df Model:                           1                                         \n",
      "Covariance Type:            nonrobust                                         \n",
      "==============================================================================\n",
      "                 coef    std err          t      P>|t|      [0.025      0.975]\n",
      "------------------------------------------------------------------------------\n",
      "const         20.3500      0.296     68.796      0.000      19.626      21.074\n",
      "Mutant         4.2000      0.418     10.040      0.000       3.176       5.224\n",
      "==============================================================================\n",
      "Omnibus:                        0.950   Durbin-Watson:                   2.276\n",
      "Prob(Omnibus):                  0.622   Jarque-Bera (JB):                0.663\n",
      "Skew:                          -0.368   Prob(JB):                        0.718\n",
      "Kurtosis:                       1.797   Cond. No.                         2.62\n",
      "==============================================================================\n",
      "\n",
      "Notes:\n",
      "[1] Standard Errors assume that the covariance matrix of the errors is correctly specified.\n"
     ]
    },
    {
     "name": "stderr",
     "output_type": "stream",
     "text": [
      "/Users/aarshitaacharya/.pyenv/versions/3.10.16/lib/python3.10/site-packages/scipy/stats/_axis_nan_policy.py:430: UserWarning: `kurtosistest` p-value may be inaccurate with fewer than 20 observations; only n=8 observations were given.\n",
      "  return hypotest_fun_in(*args, **kwds)\n"
     ]
    }
   ],
   "source": [
    "df['Mutant'] = (df['Group'] == 'Mutant').astype(int)\n",
    "X_diff = sm.add_constant(df['Mutant'])\n",
    "model_diff = sm.OLS(df['Weight'], X_diff).fit()\n",
    "print(model_diff.summary())\n"
   ]
  },
  {
   "cell_type": "markdown",
   "id": "5180d3e3",
   "metadata": {},
   "source": [
    "### **Model D: Full Regression Model (Group + Slope)**\n",
    "\n",
    "This is the **design matrix** approach:\n",
    "\n",
    "$$\n",
    "y = \\beta_0 + \\beta_g \\cdot \\text{group} + \\beta_1 x + \\varepsilon\n",
    "$$\n",
    "\n",
    "Where:\n",
    "\n",
    "* $\\beta_0$: intercept for **control group** (when $x = 0$)\n",
    "* $\\beta_g$: **offset** for mutant group (difference in intercept between mutant and control)\n",
    "* $\\beta_1$: slope shared by both groups\n",
    "  (or you could extend to have **different slopes per group** if interaction is included)\n",
    "\n",
    "**Interpretation:**\n",
    "\n",
    "* $\\beta_g$ tells you how much higher/lower mutants are compared to controls **after adjusting for x**.\n",
    "* The model uses **all data at once**, making it more powerful than a separate mean or t-test.\n"
   ]
  },
  {
   "cell_type": "code",
   "execution_count": 19,
   "id": "20596b28",
   "metadata": {},
   "outputs": [
    {
     "name": "stdout",
     "output_type": "stream",
     "text": [
      "                            OLS Regression Results                            \n",
      "==============================================================================\n",
      "Dep. Variable:                 Weight   R-squared:                       0.948\n",
      "Model:                            OLS   Adj. R-squared:                  0.928\n",
      "Method:                 Least Squares   F-statistic:                     45.89\n",
      "Date:                Tue, 12 Aug 2025   Prob (F-statistic):           0.000607\n",
      "Time:                        16:09:34   Log-Likelihood:                -5.6659\n",
      "No. Observations:                   8   AIC:                             17.33\n",
      "Df Residuals:                       5   BIC:                             17.57\n",
      "Df Model:                           2                                         \n",
      "Covariance Type:            nonrobust                                         \n",
      "==============================================================================\n",
      "                 coef    std err          t      P>|t|      [0.025      0.975]\n",
      "------------------------------------------------------------------------------\n",
      "const         20.5450      0.428     47.968      0.000      19.444      21.646\n",
      "Mutant         4.7200      0.901      5.241      0.003       2.405       7.035\n",
      "Index         -0.1300      0.197     -0.662      0.538      -0.635       0.375\n",
      "==============================================================================\n",
      "Omnibus:                        1.120   Durbin-Watson:                   2.553\n",
      "Prob(Omnibus):                  0.571   Jarque-Bera (JB):                0.765\n",
      "Skew:                          -0.629   Prob(JB):                        0.682\n",
      "Kurtosis:                       2.155   Cond. No.                         18.3\n",
      "==============================================================================\n",
      "\n",
      "Notes:\n",
      "[1] Standard Errors assume that the covariance matrix of the errors is correctly specified.\n"
     ]
    },
    {
     "name": "stderr",
     "output_type": "stream",
     "text": [
      "/Users/aarshitaacharya/.pyenv/versions/3.10.16/lib/python3.10/site-packages/scipy/stats/_axis_nan_policy.py:430: UserWarning: `kurtosistest` p-value may be inaccurate with fewer than 20 observations; only n=8 observations were given.\n",
      "  return hypotest_fun_in(*args, **kwds)\n"
     ]
    }
   ],
   "source": [
    "X_full = sm.add_constant(df[['Mutant', 'Index']])\n",
    "model_full = sm.OLS(df['Weight'], X_full).fit()\n",
    "print(model_full.summary())\n"
   ]
  },
  {
   "cell_type": "code",
   "execution_count": 20,
   "id": "31011e94",
   "metadata": {},
   "outputs": [
    {
     "name": "stdout",
     "output_type": "stream",
     "text": [
      "Mean-only AIC: 37.036570614055414\n",
      "Slope AIC: 30.29872058314352\n",
      "Diff AIC: 16.002982955671108\n",
      "Full AIC: 17.331788225407102\n"
     ]
    }
   ],
   "source": [
    "print(\"Mean-only AIC:\", model_mean.aic)\n",
    "print(\"Slope AIC:\", model_slope.aic)\n",
    "print(\"Diff AIC:\", model_diff.aic)\n",
    "print(\"Full AIC:\", model_full.aic)\n"
   ]
  }
 ],
 "metadata": {
  "kernelspec": {
   "display_name": "3.10.16",
   "language": "python",
   "name": "python3"
  },
  "language_info": {
   "codemirror_mode": {
    "name": "ipython",
    "version": 3
   },
   "file_extension": ".py",
   "mimetype": "text/x-python",
   "name": "python",
   "nbconvert_exporter": "python",
   "pygments_lexer": "ipython3",
   "version": "3.10.16"
  }
 },
 "nbformat": 4,
 "nbformat_minor": 5
}
